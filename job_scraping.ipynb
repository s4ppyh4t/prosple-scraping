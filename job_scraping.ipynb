{
 "cells": [
  {
   "cell_type": "markdown",
   "metadata": {},
   "source": [
    "URL for scraping\n",
    "\n",
    "`https://prosple.com/search-jobs?study_fields=502&keywords=Graduate&defaults_applied=1&locations=9692`\n",
    "\n",
    "Location `9692` means Australia (whole)\n",
    "Study field `502` means IT & Computer Science"
   ]
  },
  {
   "cell_type": "markdown",
   "metadata": {},
   "source": [
    "# SELENIUM"
   ]
  },
  {
   "cell_type": "code",
   "execution_count": 1,
   "metadata": {},
   "outputs": [],
   "source": [
    "from selenium import webdriver\n",
    "from selenium.webdriver.firefox.service import Service\n",
    "# from webdriver_manager.firefox import GeckoDriverManager"
   ]
  },
  {
   "cell_type": "code",
   "execution_count": 2,
   "metadata": {},
   "outputs": [
    {
     "name": "stderr",
     "output_type": "stream",
     "text": [
      "C:\\Users\\nguye\\AppData\\Local\\Temp\\ipykernel_24292\\920307596.py:5: DeprecationWarning: use setter for headless property instead of set_headless\n",
      "  options.set_headless(True)\n"
     ]
    }
   ],
   "source": [
    "gecko_path = \"C:/Users/nguye/OneDrive/Desktop/ETL POST/driver/geckodriver/geckodriver.exe\"\n",
    "binary_path = 'C:/Program Files/Mozilla Firefox/firefox.exe'\n",
    "\n",
    "options = webdriver.FirefoxOptions()\n",
    "options.set_headless(True)\n",
    "driver = webdriver.Firefox(options=options, executable_path=gecko_path, firefox_binary=binary_path)"
   ]
  },
  {
   "cell_type": "code",
   "execution_count": 3,
   "metadata": {},
   "outputs": [],
   "source": [
    "url = 'https://prosple.com/search-jobs?study_fields=502&keywords=Graduate&defaults_applied=1&locations=9692'\n",
    "driver.get(url)\n",
    "card_per_page = 20  # Define how many results come up per page\n",
    "page_count = int(driver.find_elements_by_css_selector('a.bUjhYe')[-1].text)     # How many pages available"
   ]
  },
  {
   "cell_type": "markdown",
   "metadata": {},
   "source": [
    "### Similar to above, let's build a template of extraction for the banner each time each of the cards are clicked"
   ]
  },
  {
   "cell_type": "markdown",
   "metadata": {},
   "source": [
    "### **Let's look at all the information that I would need to extract, let's list them out:**\n",
    "\n",
    "- 'Job title' CHECKED\n",
    "Found at root <`driver.find_element_by_css_selector('h2.sc-eCssSg a')`> from banner\n",
    "\n",
    "- 'Company Name' CHECKED\n",
    "Found at root <`driver.find_element_by_css_selector('a.iSykQe')`> from banner\n",
    "\n",
    "- 'Company Source' CHECKED\n",
    "Found at root <`driver.find_element_by_css_selector('a.iSykQe').get_attribute('href')`> from banner\n",
    "\n",
    "- 'Company Logo Source' CHECKED\n",
    "Found at <`card.find_element_by_xpath('//img[@class=\"sc-dwcuIR jktQCG\"]).get_attribute('src')`> for each card\n",
    "\n",
    "- 'Source Link' CHECKED\n",
    "Found at <`driver.find_element_by_css_selector('div.iOpAyz a').get_attribute('href')`> from banner\n",
    "\n",
    "- 'Job Type' CHECKED\n",
    "Found at <`driver.find_elements_by_css_selector('p.bprSzs')[0].text`> from banner\n",
    "\n",
    "- 'Location' CBECKED\n",
    "Found at <`driver.find_elements_by_css_selector('p.bprSzs')[1].text`> from banner\n",
    "\n",
    "- 'Short description' CHECKED\n",
    "Found at <`driver.find_element_by_css_selector('.oeIuV').text`> from banner\n",
    "\n",
    "- 'Long description'\n",
    "\n",
    "- 'Start date' CHECKED\n",
    "Found at <`driver.find_elements_by_css_selector('div.krsExI div.eTEuVf')[0].text`>\n",
    "\n",
    "- 'Open' and 'Close Date' CHECKED\n",
    "Found at <`driver.find_elements_by_css_selector('div.krsExI div.eTEuVf')[1,2].text`>\n",
    "\n",
    "- 'Vacancies' CHECKED\n",
    "Found at <`driver.find_elements_by_css_selector('div.krsExI div.eTEuVf')[3].text`>\n",
    "\n",
    "- 'Salary' CHECKED\n",
    "Found at <`driver.find_elements_by_css_selector('div.krsExI div.eTEuVf')[4]`>\n",
    "\n",
    "- 'Work Rights' CHECKED\n",
    "Found at <`driver.find_elements_by_css_selector('div.gteQel div p')[0-..].text`> by looping"
   ]
  },
  {
   "cell_type": "code",
   "execution_count": 4,
   "metadata": {},
   "outputs": [
    {
     "data": {
      "text/plain": [
       "'<p class=\"SearchOpportunityContentstyle__SalaryDetail-sc-k2tet-40 ejxyuQ\">AUD 55,000 - 65,000 <span class=\"SearchOpportunityContentstyle__SalaryRate-sc-k2tet-41 bPjXdZ\">/ Year</span></p><p class=\"SearchOpportunityContentstyle__SalaryDescription-sc-k2tet-42 kMsVsG\"></p>'"
      ]
     },
     "execution_count": 4,
     "metadata": {},
     "output_type": "execute_result"
    }
   ],
   "source": [
    "# Test area\n",
    "# find_by_css_grace(query='h2.sc-eCssSg a').text\n",
    "driver.find_elements_by_css_selector('div.krsExI div.eTEuVf')[4].get_attribute('innerHTML')"
   ]
  },
  {
   "cell_type": "markdown",
   "metadata": {},
   "source": [
    "### Let's test the loop"
   ]
  },
  {
   "cell_type": "code",
   "execution_count": 5,
   "metadata": {},
   "outputs": [],
   "source": [
    "def find_by_css_grace(query, itera=-1, looker='href'):\n",
    "    if (itera == -1):\n",
    "        try:\n",
    "            return driver.find_element_by_css_selector(query).get_attribute(looker)\n",
    "        except:\n",
    "            return None\n",
    "    elif (itera == -2):\n",
    "        try:\n",
    "            return driver.find_elements_by_css_selector(query)\n",
    "        except:\n",
    "            return None\n",
    "    else:\n",
    "        try:\n",
    "            return driver.find_elements_by_css_selector(query)[itera].text\n",
    "        except:\n",
    "            return None\n",
    "            "
   ]
  },
  {
   "cell_type": "code",
   "execution_count": 6,
   "metadata": {},
   "outputs": [],
   "source": [
    "# import pandas as pd\n",
    "\n",
    "def extract_info_iter(card):\n",
    "    card.click()\n",
    "    \n",
    "    return {\n",
    "        'title': find_by_css_grace(query='h2.sc-eCssSg a',looker='innerHTML'),\n",
    "        'name' : find_by_css_grace(query='a.iSykQe', looker='innerHTML'),\n",
    "        'logo' : card.find_element_by_css_selector('div div div img').get_attribute('src'),\n",
    "        'source' : find_by_css_grace(query='div.iOpAyz a', looker='href'),\n",
    "        'type' : find_by_css_grace(query='p.bprSzs',itera=0),\n",
    "        'location' : find_by_css_grace(query='p.bprSzs',itera=1, looker='innerHTML'),\n",
    "        'shr_desc' : find_by_css_grace(query='.oeIuV', looker='innerHTML'),\n",
    "        'long_desc' : '\\n\\n'.join(element.text.strip() for element in find_by_css_grace(query='div.sc-kEjbxe.fBCLNp > *', itera=-2)),\n",
    "        'str_date' : find_by_css_grace(query='div.krsExI div.eTEuVf',itera=0),\n",
    "        'opn_date' : find_by_css_grace(query='div.krsExI div.eTEuVf',itera=1),\n",
    "        'cls_date' : find_by_css_grace(query='div.krsExI div.eTEuVf',itera=2),\n",
    "        'vac' : find_by_css_grace(query='div.krsExI div.eTEuVf',itera=3),\n",
    "        'sal' : find_by_css_grace(query='div.krsExI div.eTEuVf',itera=4),\n",
    "        'rights' : list(map(lambda x: x.get_attribute('innerHTML'), find_by_css_grace(query='div.gteQel div p', itera=-2)))\n",
    "    }"
   ]
  },
  {
   "cell_type": "markdown",
   "metadata": {},
   "source": [
    "### Let's start the loop for all pages"
   ]
  },
  {
   "cell_type": "code",
   "execution_count": 7,
   "metadata": {},
   "outputs": [
    {
     "data": {
      "text/plain": [
       "'https://prosple.com/search-jobs?study_fields=502&keywords=Graduate&defaults_applied=1&locations=9692&start=20'"
      ]
     },
     "execution_count": 7,
     "metadata": {},
     "output_type": "execute_result"
    }
   ],
   "source": [
    "# text_elements = driver.find_elements_by_css_selector('div.sc-kEjbxe.fBCLNp > *')\n",
    "# text_output = '\\n\\n'.join(element.text.strip() for element in text_elements)\n",
    "# print(text_output)\n",
    "driver.find_element_by_xpath('//a[@aria-label=\"Goto next page\"]').get_attribute('href')"
   ]
  },
  {
   "cell_type": "code",
   "execution_count": 8,
   "metadata": {},
   "outputs": [
    {
     "name": "stdout",
     "output_type": "stream",
     "text": [
      "bruh\n"
     ]
    }
   ],
   "source": [
    "# resulting list\n",
    "result_list = []\n",
    "\n",
    "for page in range(1,page_count+1):\n",
    "    cards_on_page = driver.find_elements_by_class_name('sc-jifIRw')\n",
    "    # extract info on the page\n",
    "    result_list += list(map(extract_info_iter, cards_on_page))\n",
    "\n",
    "    # try to get the next button, exit when no longer exist\n",
    "    try:\n",
    "        next_page_btn = driver.find_element_by_xpath('//a[@aria-label=\"Goto next page\"]')\n",
    "\n",
    "        # skip to next page\n",
    "        driver.get(next_page_btn.get_attribute('href'))\n",
    "    except:\n",
    "        print('bruh')\n",
    "\n",
    "    "
   ]
  },
  {
   "cell_type": "code",
   "execution_count": 9,
   "metadata": {},
   "outputs": [],
   "source": [
    "import pandas as pd\n",
    "\n",
    "df = pd.DataFrame(result_list)"
   ]
  },
  {
   "cell_type": "code",
   "execution_count": 10,
   "metadata": {},
   "outputs": [
    {
     "data": {
      "text/plain": [
       "(435, 14)"
      ]
     },
     "execution_count": 10,
     "metadata": {},
     "output_type": "execute_result"
    }
   ],
   "source": [
    "df.shape"
   ]
  },
  {
   "cell_type": "code",
   "execution_count": 11,
   "metadata": {},
   "outputs": [],
   "source": [
    "driver.quit()"
   ]
  },
  {
   "cell_type": "code",
   "execution_count": 12,
   "metadata": {},
   "outputs": [],
   "source": [
    "from datetime import datetime\n",
    "df.to_csv(f'job_export/prosple_gradit_export_{datetime.now().strftime(\"%Y%m%d\")}.csv')"
   ]
  }
 ],
 "metadata": {
  "kernelspec": {
   "display_name": "Python 3",
   "language": "python",
   "name": "python3"
  },
  "language_info": {
   "codemirror_mode": {
    "name": "ipython",
    "version": 3
   },
   "file_extension": ".py",
   "mimetype": "text/x-python",
   "name": "python",
   "nbconvert_exporter": "python",
   "pygments_lexer": "ipython3",
   "version": "3.11.8"
  }
 },
 "nbformat": 4,
 "nbformat_minor": 2
}
